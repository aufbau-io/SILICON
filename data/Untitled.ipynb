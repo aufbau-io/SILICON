{
 "cells": [
  {
   "cell_type": "code",
   "execution_count": 12,
   "id": "5a0d6b98-e79f-4bd4-8401-83cdd63f87a7",
   "metadata": {},
   "outputs": [],
   "source": [
    "import json\n",
    "\n",
    "# Specify the path to your JSON file\n",
    "file_path = 'json/filtered_records.json'\n",
    "\n",
    "# Open the JSON file\n",
    "with open(file_path, 'r') as file:\n",
    "    # Load the JSON data\n",
    "    data = json.load(file)"
   ]
  },
  {
   "cell_type": "code",
   "execution_count": 13,
   "id": "4f74654e-74b6-4b35-8f8d-06f3d3d17155",
   "metadata": {},
   "outputs": [
    {
     "data": {
      "text/plain": [
       "460704"
      ]
     },
     "execution_count": 13,
     "metadata": {},
     "output_type": "execute_result"
    }
   ],
   "source": [
    "len(data)"
   ]
  },
  {
   "cell_type": "code",
   "execution_count": 15,
   "id": "36fa6383-a351-4c7f-bee7-fbdc99c8418d",
   "metadata": {},
   "outputs": [
    {
     "data": {
      "text/plain": [
       "{'record_styles': ['Deep House'],\n",
       " 'record_labels': ['5-Svek'],\n",
       " 'record_rating': 4.49,\n",
       " 'record_artists': ['1-The-Persuader'],\n",
       " 'record_name': 'Stockholm',\n",
       " 'record_year': '1999',\n",
       " 'record_youtube_ids': ['MpmbntGDyNE',\n",
       "  'Cawyll0pOI4',\n",
       "  'XExCZfMCXdo',\n",
       "  'WDZqiENap_U',\n",
       "  'EBBHR3EMN50',\n",
       "  'afMHNll9EVM'],\n",
       " 'record_id': 1,\n",
       " 'countries': ['Sweden'],\n",
       " 'record_genres': ['Electronic']}"
      ]
     },
     "execution_count": 15,
     "metadata": {},
     "output_type": "execute_result"
    }
   ],
   "source": [
    "data[\"1\"]"
   ]
  },
  {
   "cell_type": "code",
   "execution_count": null,
   "id": "c66d3583-1b5b-4709-ae3f-59b34f1feb30",
   "metadata": {},
   "outputs": [],
   "source": []
  }
 ],
 "metadata": {
  "kernelspec": {
   "display_name": "Python 3 (ipykernel)",
   "language": "python",
   "name": "python3"
  },
  "language_info": {
   "codemirror_mode": {
    "name": "ipython",
    "version": 3
   },
   "file_extension": ".py",
   "mimetype": "text/x-python",
   "name": "python",
   "nbconvert_exporter": "python",
   "pygments_lexer": "ipython3",
   "version": "3.11.4"
  }
 },
 "nbformat": 4,
 "nbformat_minor": 5
}
